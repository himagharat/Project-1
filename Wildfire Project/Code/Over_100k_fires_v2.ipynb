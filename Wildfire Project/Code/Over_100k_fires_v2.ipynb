{
 "cells": [
  {
   "cell_type": "code",
   "execution_count": 1,
   "metadata": {},
   "outputs": [],
   "source": [
    "from matplotlib import pyplot as plt\n",
    "from scipy.stats import linregress\n",
    "import scipy.stats as stats\n",
    "import numpy as np\n",
    "import pandas as pd"
   ]
  },
  {
   "cell_type": "code",
   "execution_count": 2,
   "metadata": {},
   "outputs": [],
   "source": [
    "Acre_Fire = \"C:\\\\UPenn\\\\Wildfire Project\\\\Wildfire Project\\\\100K_acre_fires.csv\""
   ]
  },
  {
   "cell_type": "code",
   "execution_count": 3,
   "metadata": {},
   "outputs": [],
   "source": [
    "Acre_Fire_df = pd.read_csv(Acre_Fire)"
   ]
  },
  {
   "cell_type": "code",
   "execution_count": 4,
   "metadata": {
    "scrolled": true
   },
   "outputs": [
    {
     "data": {
      "text/html": [
       "<div>\n",
       "<style scoped>\n",
       "    .dataframe tbody tr th:only-of-type {\n",
       "        vertical-align: middle;\n",
       "    }\n",
       "\n",
       "    .dataframe tbody tr th {\n",
       "        vertical-align: top;\n",
       "    }\n",
       "\n",
       "    .dataframe thead th {\n",
       "        text-align: right;\n",
       "    }\n",
       "</style>\n",
       "<table border=\"1\" class=\"dataframe\">\n",
       "  <thead>\n",
       "    <tr style=\"text-align: right;\">\n",
       "      <th></th>\n",
       "      <th>Year</th>\n",
       "      <th>Fire Name</th>\n",
       "      <th># of Fires (if applicable</th>\n",
       "      <th>State</th>\n",
       "      <th>Total Acres</th>\n",
       "      <th>Avg Acres</th>\n",
       "    </tr>\n",
       "  </thead>\n",
       "  <tbody>\n",
       "    <tr>\n",
       "      <th>0</th>\n",
       "      <td>1997</td>\n",
       "      <td>Inowak</td>\n",
       "      <td>1</td>\n",
       "      <td>AK</td>\n",
       "      <td>610000.0</td>\n",
       "      <td>610000.00000</td>\n",
       "    </tr>\n",
       "    <tr>\n",
       "      <th>1</th>\n",
       "      <td>1999</td>\n",
       "      <td>Big Bar Complex</td>\n",
       "      <td>2</td>\n",
       "      <td>CA</td>\n",
       "      <td>140948.0</td>\n",
       "      <td>70474.00000</td>\n",
       "    </tr>\n",
       "    <tr>\n",
       "      <th>2</th>\n",
       "      <td>1999</td>\n",
       "      <td>Mule Butte</td>\n",
       "      <td>1</td>\n",
       "      <td>ID</td>\n",
       "      <td>138220.0</td>\n",
       "      <td>138220.00000</td>\n",
       "    </tr>\n",
       "    <tr>\n",
       "      <th>3</th>\n",
       "      <td>1999</td>\n",
       "      <td>Dun Glen Complex</td>\n",
       "      <td>9</td>\n",
       "      <td>NV</td>\n",
       "      <td>361658.0</td>\n",
       "      <td>40184.22222</td>\n",
       "    </tr>\n",
       "    <tr>\n",
       "      <th>4</th>\n",
       "      <td>1999</td>\n",
       "      <td>Sadler Complex</td>\n",
       "      <td>1</td>\n",
       "      <td>NV</td>\n",
       "      <td>297000.0</td>\n",
       "      <td>297000.00000</td>\n",
       "    </tr>\n",
       "    <tr>\n",
       "      <th>...</th>\n",
       "      <td>...</td>\n",
       "      <td>...</td>\n",
       "      <td>...</td>\n",
       "      <td>...</td>\n",
       "      <td>...</td>\n",
       "      <td>...</td>\n",
       "    </tr>\n",
       "    <tr>\n",
       "      <th>211</th>\n",
       "      <td>2019</td>\n",
       "      <td>Black River</td>\n",
       "      <td>1</td>\n",
       "      <td>AK</td>\n",
       "      <td>107078.0</td>\n",
       "      <td>107078.00000</td>\n",
       "    </tr>\n",
       "    <tr>\n",
       "      <th>212</th>\n",
       "      <td>2019</td>\n",
       "      <td>North River</td>\n",
       "      <td>1</td>\n",
       "      <td>AK</td>\n",
       "      <td>101451.0</td>\n",
       "      <td>101451.00000</td>\n",
       "    </tr>\n",
       "    <tr>\n",
       "      <th>213</th>\n",
       "      <td>2019</td>\n",
       "      <td>Woodbury</td>\n",
       "      <td>1</td>\n",
       "      <td>AZ</td>\n",
       "      <td>123875.0</td>\n",
       "      <td>123875.00000</td>\n",
       "    </tr>\n",
       "    <tr>\n",
       "      <th>214</th>\n",
       "      <td>2019</td>\n",
       "      <td>Sheep</td>\n",
       "      <td>1</td>\n",
       "      <td>ID</td>\n",
       "      <td>112106.0</td>\n",
       "      <td>112106.00000</td>\n",
       "    </tr>\n",
       "    <tr>\n",
       "      <th>215</th>\n",
       "      <td>2020</td>\n",
       "      <td>Frozen Calf</td>\n",
       "      <td>1</td>\n",
       "      <td>AK</td>\n",
       "      <td>240543.0</td>\n",
       "      <td>240543.00000</td>\n",
       "    </tr>\n",
       "  </tbody>\n",
       "</table>\n",
       "<p>216 rows × 6 columns</p>\n",
       "</div>"
      ],
      "text/plain": [
       "     Year           Fire Name  # of Fires (if applicable State  Total Acres  \\\n",
       "0    1997              Inowak                          1    AK     610000.0   \n",
       "1    1999    Big Bar Complex                           2    CA     140948.0   \n",
       "2    1999          Mule Butte                          1    ID     138220.0   \n",
       "3    1999  Dun Glen Complex                            9    NV     361658.0   \n",
       "4    1999      Sadler Complex                          1    NV     297000.0   \n",
       "..    ...                 ...                        ...   ...          ...   \n",
       "211  2019         Black River                          1    AK     107078.0   \n",
       "212  2019         North River                          1    AK     101451.0   \n",
       "213  2019            Woodbury                          1    AZ     123875.0   \n",
       "214  2019               Sheep                          1    ID     112106.0   \n",
       "215  2020         Frozen Calf                          1    AK     240543.0   \n",
       "\n",
       "        Avg Acres  \n",
       "0    610000.00000  \n",
       "1     70474.00000  \n",
       "2    138220.00000  \n",
       "3     40184.22222  \n",
       "4    297000.00000  \n",
       "..            ...  \n",
       "211  107078.00000  \n",
       "212  101451.00000  \n",
       "213  123875.00000  \n",
       "214  112106.00000  \n",
       "215  240543.00000  \n",
       "\n",
       "[216 rows x 6 columns]"
      ]
     },
     "execution_count": 4,
     "metadata": {},
     "output_type": "execute_result"
    }
   ],
   "source": [
    "Acre_Fire_df"
   ]
  },
  {
   "cell_type": "code",
   "execution_count": 5,
   "metadata": {
    "scrolled": true
   },
   "outputs": [
    {
     "data": {
      "text/plain": [
       "2004    21\n",
       "2015    19\n",
       "2007    16\n",
       "2006    15\n",
       "2017    14\n",
       "2012    14\n",
       "2011    14\n",
       "2018    12\n",
       "2009    11\n",
       "2002    10\n",
       "2005     9\n",
       "2000     9\n",
       "1999     9\n",
       "2013     9\n",
       "2019     8\n",
       "2016     6\n",
       "2008     5\n",
       "2014     5\n",
       "2003     3\n",
       "2010     3\n",
       "2001     2\n",
       "2020     1\n",
       "1997     1\n",
       "Name: Year, dtype: int64"
      ]
     },
     "execution_count": 5,
     "metadata": {},
     "output_type": "execute_result"
    }
   ],
   "source": [
    "Acre_Fire_df['Year'].value_counts()"
   ]
  },
  {
   "cell_type": "code",
   "execution_count": 6,
   "metadata": {},
   "outputs": [
    {
     "data": {
      "text/plain": [
       "array([1997, 1999, 2000, 2001, 2002, 2003, 2004, 2005, 2006, 2007, 2008,\n",
       "       2009, 2010, 2011, 2012, 2013, 2014, 2015, 2016, 2017, 2018, 2019,\n",
       "       2020], dtype=int64)"
      ]
     },
     "execution_count": 6,
     "metadata": {},
     "output_type": "execute_result"
    }
   ],
   "source": [
    "Acre_Fire_df['Year'].unique()"
   ]
  },
  {
   "cell_type": "code",
   "execution_count": 7,
   "metadata": {},
   "outputs": [
    {
     "data": {
      "text/plain": [
       "Text(0.5, 1.0, 'Amount of Fires over 100k Acres')"
      ]
     },
     "execution_count": 7,
     "metadata": {},
     "output_type": "execute_result"
    },
    {
     "data": {
      "image/png": "[encoded data removed]",
      "text/plain": [
       "<Figure size 432x288 with 1 Axes>"
      ]
     },
     "metadata": {
      "needs_background": "light"
     },
     "output_type": "display_data"
    }
   ],
   "source": [
    "plt.plot(Acre_Fire_df['Year'].unique(),Acre_Fire_df['Year'].value_counts(), color='red')\n",
    "plt.xlabel(\"Year\")\n",
    "plt.ylabel(\"Amount of Fires\")\n",
    "plt.title(\"Amount of Fires over 100k Acres\")"
   ]
  },
  {
   "cell_type": "code",
   "execution_count": null,
   "metadata": {},
   "outputs": [],
   "source": []
  }
 ],
 "metadata": {
  "kernelspec": {
   "display_name": "Python 3",
   "language": "python",
   "name": "python3"
  },
  "language_info": {
   "codemirror_mode": {
    "name": "ipython",
    "version": 3
   },
   "file_extension": ".py",
   "mimetype": "text/x-python",
   "name": "python",
   "nbconvert_exporter": "python",
   "pygments_lexer": "ipython3",
   "version": "3.6.10"
  }
 },
 "nbformat": 4,
 "nbformat_minor": 4
}
